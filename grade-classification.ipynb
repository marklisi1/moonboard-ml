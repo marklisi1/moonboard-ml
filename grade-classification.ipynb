{
 "cells": [
  {
   "cell_type": "code",
   "execution_count": 1,
   "metadata": {},
   "outputs": [
    {
     "name": "stderr",
     "output_type": "stream",
     "text": [
      "c:\\Users\\mlisi\\anaconda3\\lib\\site-packages\\scipy\\__init__.py:138: UserWarning: A NumPy version >=1.16.5 and <1.23.0 is required for this version of SciPy (detected version 1.23.5)\n",
      "  warnings.warn(f\"A NumPy version >={np_minversion} and <{np_maxversion} is required for this version of \"\n"
     ]
    }
   ],
   "source": [
    "import numpy as np\n",
    "import tensorflow as tf\n",
    "from tensorflow.keras import layers"
   ]
  },
  {
   "cell_type": "code",
   "execution_count": 2,
   "metadata": {},
   "outputs": [],
   "source": [
    "f = np.load(\"moonboard.npz\")\n",
    "X_train, y_train = f['x_train'], f['y_train']\n",
    "X_test,  y_test  = f['x_test'],  f['y_test']"
   ]
  },
  {
   "cell_type": "code",
   "execution_count": 3,
   "metadata": {},
   "outputs": [
    {
     "data": {
      "text/plain": [
       "{0, 4, 5, 6, 7, 8, 9, 10, 11, 12, 13, 14, 15, 16}"
      ]
     },
     "execution_count": 3,
     "metadata": {},
     "output_type": "execute_result"
    }
   ],
   "source": [
    "set(y_train) #grade labels!"
   ]
  },
  {
   "cell_type": "code",
   "execution_count": 4,
   "metadata": {},
   "outputs": [
    {
     "data": {
      "text/plain": [
       "(array([4099], dtype=int64),)"
      ]
     },
     "execution_count": 4,
     "metadata": {},
     "output_type": "execute_result"
    }
   ],
   "source": [
    "# There is only one climb labeled with a grade of 0, so we will remove it.\n",
    "# We need to remove the climb itself as well as the corresponding label.\n",
    "np.where(y_train == 0)"
   ]
  },
  {
   "cell_type": "code",
   "execution_count": 5,
   "metadata": {},
   "outputs": [],
   "source": [
    "X_train = np.delete(X_train, 4099, axis=0)\n",
    "y_train = np.delete(y_train, 4099)"
   ]
  },
  {
   "cell_type": "code",
   "execution_count": 6,
   "metadata": {},
   "outputs": [],
   "source": [
    "y_test = y_test - 4 # normalizing to 0-12 for sparse categorical cross-entropy\n",
    "y_train = y_train - 4"
   ]
  },
  {
   "cell_type": "code",
   "execution_count": 7,
   "metadata": {},
   "outputs": [
    {
     "data": {
      "text/plain": [
       "(9523, 18, 11)"
      ]
     },
     "execution_count": 7,
     "metadata": {},
     "output_type": "execute_result"
    }
   ],
   "source": [
    "X_train.shape"
   ]
  },
  {
   "cell_type": "code",
   "execution_count": 8,
   "metadata": {},
   "outputs": [
    {
     "data": {
      "text/plain": [
       "(9523,)"
      ]
     },
     "execution_count": 8,
     "metadata": {},
     "output_type": "execute_result"
    }
   ],
   "source": [
    "y_train.shape"
   ]
  },
  {
   "cell_type": "code",
   "execution_count": 14,
   "metadata": {},
   "outputs": [
    {
     "name": "stdout",
     "output_type": "stream",
     "text": [
      "Model: \"sequential_1\"\n",
      "_________________________________________________________________\n",
      " Layer (type)                Output Shape              Param #   \n",
      "=================================================================\n",
      " conv2d_2 (Conv2D)           (None, 16, 9, 32)         320       \n",
      "                                                                 \n",
      " max_pooling2d_2 (MaxPooling  (None, 8, 4, 32)         0         \n",
      " 2D)                                                             \n",
      "                                                                 \n",
      " batch_normalization_2 (Batc  (None, 8, 4, 32)         128       \n",
      " hNormalization)                                                 \n",
      "                                                                 \n",
      " conv2d_3 (Conv2D)           (None, 6, 2, 64)          18496     \n",
      "                                                                 \n",
      " max_pooling2d_3 (MaxPooling  (None, 3, 1, 64)         0         \n",
      " 2D)                                                             \n",
      "                                                                 \n",
      " batch_normalization_3 (Batc  (None, 3, 1, 64)         256       \n",
      " hNormalization)                                                 \n",
      "                                                                 \n",
      " flatten_1 (Flatten)         (None, 192)               0         \n",
      "                                                                 \n",
      " dense_3 (Dense)             (None, 128)               24704     \n",
      "                                                                 \n",
      " dropout_1 (Dropout)         (None, 128)               0         \n",
      "                                                                 \n",
      " dense_4 (Dense)             (None, 64)                8256      \n",
      "                                                                 \n",
      " dense_5 (Dense)             (None, 32)                2080      \n",
      "                                                                 \n",
      " dense_6 (Dense)             (None, 13)                429       \n",
      "                                                                 \n",
      "=================================================================\n",
      "Total params: 54,669\n",
      "Trainable params: 54,477\n",
      "Non-trainable params: 192\n",
      "_________________________________________________________________\n"
     ]
    }
   ],
   "source": [
    "model = tf.keras.Sequential(\n",
    "    [\n",
    "        tf.keras.Input(shape=(18,11,1)),\n",
    "        layers.Conv2D(32, (3,3), activation='relu'),\n",
    "        layers.MaxPooling2D((2,2)),\n",
    "        layers.BatchNormalization(),\n",
    "        layers.Conv2D(64, (3,3), activation='relu'),\n",
    "        layers.MaxPooling2D((2,2)),\n",
    "        layers.BatchNormalization(),\n",
    "        layers.Flatten(),\n",
    "        layers.Dense(128, activation='relu'),\n",
    "        layers.Dropout(0.5),\n",
    "        layers.Dense(64, activation='relu'),\n",
    "        layers.Dense(32, activation='relu'),\n",
    "        layers.Dense(13, activation='softmax')\n",
    "\n",
    "    ]\n",
    ")\n",
    "model.summary()"
   ]
  },
  {
   "cell_type": "code",
   "execution_count": 15,
   "metadata": {},
   "outputs": [
    {
     "name": "stdout",
     "output_type": "stream",
     "text": [
      "Epoch 1/100\n",
      "149/149 [==============================] - 1s 4ms/step - loss: 2.0062 - accuracy: 0.2914\n",
      "Epoch 2/100\n",
      "149/149 [==============================] - 1s 4ms/step - loss: 1.7939 - accuracy: 0.3486\n",
      "Epoch 3/100\n",
      "149/149 [==============================] - 1s 4ms/step - loss: 1.7104 - accuracy: 0.3750\n",
      "Epoch 4/100\n",
      "149/149 [==============================] - 1s 4ms/step - loss: 1.6515 - accuracy: 0.3878\n",
      "Epoch 5/100\n",
      "149/149 [==============================] - 1s 4ms/step - loss: 1.6151 - accuracy: 0.4032\n",
      "Epoch 6/100\n",
      "149/149 [==============================] - 1s 4ms/step - loss: 1.5595 - accuracy: 0.4229\n",
      "Epoch 7/100\n",
      "149/149 [==============================] - 1s 4ms/step - loss: 1.5252 - accuracy: 0.4338\n",
      "Epoch 8/100\n",
      "149/149 [==============================] - 1s 4ms/step - loss: 1.4839 - accuracy: 0.4492\n",
      "Epoch 9/100\n",
      "149/149 [==============================] - 1s 4ms/step - loss: 1.4461 - accuracy: 0.4609\n",
      "Epoch 10/100\n",
      "149/149 [==============================] - 1s 4ms/step - loss: 1.4242 - accuracy: 0.4713\n",
      "Epoch 11/100\n",
      "149/149 [==============================] - 1s 4ms/step - loss: 1.3726 - accuracy: 0.4956\n",
      "Epoch 12/100\n",
      "149/149 [==============================] - 1s 4ms/step - loss: 1.3345 - accuracy: 0.5038\n",
      "Epoch 13/100\n",
      "149/149 [==============================] - 1s 4ms/step - loss: 1.3021 - accuracy: 0.5206\n",
      "Epoch 14/100\n",
      "149/149 [==============================] - 1s 4ms/step - loss: 1.2630 - accuracy: 0.5412\n",
      "Epoch 15/100\n",
      "149/149 [==============================] - 1s 5ms/step - loss: 1.2320 - accuracy: 0.5469\n",
      "Epoch 16/100\n",
      "149/149 [==============================] - 1s 5ms/step - loss: 1.1964 - accuracy: 0.5621\n",
      "Epoch 17/100\n",
      "149/149 [==============================] - 1s 5ms/step - loss: 1.1512 - accuracy: 0.5769\n",
      "Epoch 18/100\n",
      "149/149 [==============================] - 1s 4ms/step - loss: 1.1360 - accuracy: 0.5808\n",
      "Epoch 19/100\n",
      "149/149 [==============================] - 1s 4ms/step - loss: 1.1017 - accuracy: 0.5948\n",
      "Epoch 20/100\n",
      "149/149 [==============================] - 1s 4ms/step - loss: 1.0657 - accuracy: 0.6094\n",
      "Epoch 21/100\n",
      "149/149 [==============================] - 1s 4ms/step - loss: 1.0500 - accuracy: 0.6264\n",
      "Epoch 22/100\n",
      "149/149 [==============================] - 1s 4ms/step - loss: 1.0214 - accuracy: 0.6317\n",
      "Epoch 23/100\n",
      "149/149 [==============================] - 1s 4ms/step - loss: 0.9912 - accuracy: 0.6359\n",
      "Epoch 24/100\n",
      "149/149 [==============================] - 1s 5ms/step - loss: 0.9668 - accuracy: 0.6529\n",
      "Epoch 25/100\n",
      "149/149 [==============================] - 1s 5ms/step - loss: 0.9424 - accuracy: 0.6547\n",
      "Epoch 26/100\n",
      "149/149 [==============================] - 1s 5ms/step - loss: 0.9184 - accuracy: 0.6689\n",
      "Epoch 27/100\n",
      "149/149 [==============================] - 1s 4ms/step - loss: 0.9064 - accuracy: 0.6755\n",
      "Epoch 28/100\n",
      "149/149 [==============================] - 1s 4ms/step - loss: 0.8924 - accuracy: 0.6738\n",
      "Epoch 29/100\n",
      "149/149 [==============================] - 1s 4ms/step - loss: 0.8654 - accuracy: 0.6852\n",
      "Epoch 30/100\n",
      "149/149 [==============================] - 1s 4ms/step - loss: 0.8439 - accuracy: 0.6964\n",
      "Epoch 31/100\n",
      "149/149 [==============================] - 1s 5ms/step - loss: 0.8336 - accuracy: 0.6973\n",
      "Epoch 32/100\n",
      "149/149 [==============================] - 1s 4ms/step - loss: 0.8237 - accuracy: 0.7014\n",
      "Epoch 33/100\n",
      "149/149 [==============================] - 1s 4ms/step - loss: 0.8012 - accuracy: 0.7103\n",
      "Epoch 34/100\n",
      "149/149 [==============================] - 1s 5ms/step - loss: 0.7871 - accuracy: 0.7151\n",
      "Epoch 35/100\n",
      "149/149 [==============================] - 1s 4ms/step - loss: 0.7775 - accuracy: 0.7163\n",
      "Epoch 36/100\n",
      "149/149 [==============================] - 1s 4ms/step - loss: 0.7560 - accuracy: 0.7236\n",
      "Epoch 37/100\n",
      "149/149 [==============================] - 1s 4ms/step - loss: 0.7419 - accuracy: 0.7261\n",
      "Epoch 38/100\n",
      "149/149 [==============================] - 1s 4ms/step - loss: 0.7256 - accuracy: 0.7368\n",
      "Epoch 39/100\n",
      "149/149 [==============================] - 1s 4ms/step - loss: 0.7298 - accuracy: 0.7334\n",
      "Epoch 40/100\n",
      "149/149 [==============================] - 1s 4ms/step - loss: 0.7223 - accuracy: 0.7381\n",
      "Epoch 41/100\n",
      "149/149 [==============================] - 1s 5ms/step - loss: 0.7040 - accuracy: 0.7448\n",
      "Epoch 42/100\n",
      "149/149 [==============================] - 1s 5ms/step - loss: 0.6901 - accuracy: 0.7526\n",
      "Epoch 43/100\n",
      "149/149 [==============================] - 1s 5ms/step - loss: 0.6844 - accuracy: 0.7538\n",
      "Epoch 44/100\n",
      "149/149 [==============================] - 1s 5ms/step - loss: 0.6703 - accuracy: 0.7588\n",
      "Epoch 45/100\n",
      "149/149 [==============================] - 1s 5ms/step - loss: 0.6574 - accuracy: 0.7623\n",
      "Epoch 46/100\n",
      "149/149 [==============================] - 1s 4ms/step - loss: 0.6524 - accuracy: 0.7609\n",
      "Epoch 47/100\n",
      "149/149 [==============================] - 1s 4ms/step - loss: 0.6549 - accuracy: 0.7652\n",
      "Epoch 48/100\n",
      "149/149 [==============================] - 1s 4ms/step - loss: 0.6348 - accuracy: 0.7695\n",
      "Epoch 49/100\n",
      "149/149 [==============================] - 1s 4ms/step - loss: 0.6300 - accuracy: 0.7758\n",
      "Epoch 50/100\n",
      "149/149 [==============================] - 1s 5ms/step - loss: 0.6107 - accuracy: 0.7785\n",
      "Epoch 51/100\n",
      "149/149 [==============================] - 1s 5ms/step - loss: 0.6237 - accuracy: 0.7701\n",
      "Epoch 52/100\n",
      "149/149 [==============================] - 1s 5ms/step - loss: 0.5992 - accuracy: 0.7868\n",
      "Epoch 53/100\n",
      "149/149 [==============================] - 1s 5ms/step - loss: 0.6135 - accuracy: 0.7747\n",
      "Epoch 54/100\n",
      "149/149 [==============================] - 1s 5ms/step - loss: 0.5874 - accuracy: 0.7803\n",
      "Epoch 55/100\n",
      "149/149 [==============================] - 1s 4ms/step - loss: 0.5941 - accuracy: 0.7801\n",
      "Epoch 56/100\n",
      "149/149 [==============================] - 1s 5ms/step - loss: 0.5838 - accuracy: 0.7900\n",
      "Epoch 57/100\n",
      "149/149 [==============================] - 1s 5ms/step - loss: 0.5788 - accuracy: 0.7881\n",
      "Epoch 58/100\n",
      "149/149 [==============================] - 1s 4ms/step - loss: 0.5746 - accuracy: 0.7901\n",
      "Epoch 59/100\n",
      "149/149 [==============================] - 1s 5ms/step - loss: 0.5558 - accuracy: 0.7987\n",
      "Epoch 60/100\n",
      "149/149 [==============================] - 1s 4ms/step - loss: 0.5523 - accuracy: 0.7962\n",
      "Epoch 61/100\n",
      "149/149 [==============================] - 1s 4ms/step - loss: 0.5456 - accuracy: 0.7995\n",
      "Epoch 62/100\n",
      "149/149 [==============================] - 1s 5ms/step - loss: 0.5404 - accuracy: 0.8076\n",
      "Epoch 63/100\n",
      "149/149 [==============================] - 1s 4ms/step - loss: 0.5455 - accuracy: 0.7996\n",
      "Epoch 64/100\n",
      "149/149 [==============================] - 1s 4ms/step - loss: 0.5401 - accuracy: 0.8034\n",
      "Epoch 65/100\n",
      "149/149 [==============================] - 1s 5ms/step - loss: 0.5267 - accuracy: 0.8075\n",
      "Epoch 66/100\n",
      "149/149 [==============================] - 1s 5ms/step - loss: 0.5344 - accuracy: 0.8052\n",
      "Epoch 67/100\n",
      "149/149 [==============================] - 1s 4ms/step - loss: 0.5265 - accuracy: 0.8109\n",
      "Epoch 68/100\n",
      "149/149 [==============================] - 1s 5ms/step - loss: 0.5145 - accuracy: 0.8092\n",
      "Epoch 69/100\n",
      "149/149 [==============================] - 1s 5ms/step - loss: 0.5102 - accuracy: 0.8165\n",
      "Epoch 70/100\n",
      "149/149 [==============================] - 1s 4ms/step - loss: 0.5236 - accuracy: 0.8098\n",
      "Epoch 71/100\n",
      "149/149 [==============================] - 1s 4ms/step - loss: 0.5098 - accuracy: 0.8136\n",
      "Epoch 72/100\n",
      "149/149 [==============================] - 1s 4ms/step - loss: 0.5160 - accuracy: 0.8115\n",
      "Epoch 73/100\n",
      "149/149 [==============================] - 1s 4ms/step - loss: 0.5021 - accuracy: 0.8156\n",
      "Epoch 74/100\n",
      "149/149 [==============================] - 1s 4ms/step - loss: 0.4956 - accuracy: 0.8186\n",
      "Epoch 75/100\n",
      "149/149 [==============================] - 1s 5ms/step - loss: 0.4873 - accuracy: 0.8239\n",
      "Epoch 76/100\n",
      "149/149 [==============================] - 1s 4ms/step - loss: 0.4790 - accuracy: 0.8252\n",
      "Epoch 77/100\n",
      "149/149 [==============================] - 1s 4ms/step - loss: 0.4749 - accuracy: 0.8297\n",
      "Epoch 78/100\n",
      "149/149 [==============================] - 1s 4ms/step - loss: 0.4678 - accuracy: 0.8269\n",
      "Epoch 79/100\n",
      "149/149 [==============================] - 1s 4ms/step - loss: 0.4736 - accuracy: 0.8274\n",
      "Epoch 80/100\n",
      "149/149 [==============================] - 1s 5ms/step - loss: 0.4706 - accuracy: 0.8240\n",
      "Epoch 81/100\n",
      "149/149 [==============================] - 1s 5ms/step - loss: 0.4899 - accuracy: 0.8197\n",
      "Epoch 82/100\n",
      "149/149 [==============================] - 1s 4ms/step - loss: 0.4670 - accuracy: 0.8287\n",
      "Epoch 83/100\n",
      "149/149 [==============================] - 1s 5ms/step - loss: 0.4593 - accuracy: 0.8329\n",
      "Epoch 84/100\n",
      "149/149 [==============================] - 1s 4ms/step - loss: 0.4435 - accuracy: 0.8360\n",
      "Epoch 85/100\n",
      "149/149 [==============================] - 1s 4ms/step - loss: 0.4575 - accuracy: 0.8330\n",
      "Epoch 86/100\n",
      "149/149 [==============================] - 1s 5ms/step - loss: 0.4524 - accuracy: 0.8318\n",
      "Epoch 87/100\n",
      "149/149 [==============================] - 1s 4ms/step - loss: 0.4583 - accuracy: 0.8340\n",
      "Epoch 88/100\n",
      "149/149 [==============================] - 1s 4ms/step - loss: 0.4492 - accuracy: 0.8385\n",
      "Epoch 89/100\n",
      "149/149 [==============================] - 1s 5ms/step - loss: 0.4405 - accuracy: 0.8370\n",
      "Epoch 90/100\n",
      "149/149 [==============================] - 1s 5ms/step - loss: 0.4347 - accuracy: 0.8432\n",
      "Epoch 91/100\n",
      "149/149 [==============================] - 1s 4ms/step - loss: 0.4516 - accuracy: 0.8327\n",
      "Epoch 92/100\n",
      "149/149 [==============================] - 1s 5ms/step - loss: 0.4404 - accuracy: 0.8382\n",
      "Epoch 93/100\n",
      "149/149 [==============================] - 1s 5ms/step - loss: 0.4311 - accuracy: 0.8443\n",
      "Epoch 94/100\n",
      "149/149 [==============================] - 1s 4ms/step - loss: 0.4284 - accuracy: 0.8464\n",
      "Epoch 95/100\n",
      "149/149 [==============================] - 1s 4ms/step - loss: 0.4332 - accuracy: 0.8408\n",
      "Epoch 96/100\n",
      "149/149 [==============================] - 1s 5ms/step - loss: 0.4298 - accuracy: 0.8409\n",
      "Epoch 97/100\n",
      "149/149 [==============================] - 1s 4ms/step - loss: 0.4285 - accuracy: 0.8419\n",
      "Epoch 98/100\n",
      "149/149 [==============================] - 1s 4ms/step - loss: 0.4345 - accuracy: 0.8357\n",
      "Epoch 99/100\n",
      "149/149 [==============================] - 1s 5ms/step - loss: 0.4161 - accuracy: 0.8451\n",
      "Epoch 100/100\n",
      "149/149 [==============================] - 1s 5ms/step - loss: 0.4180 - accuracy: 0.8442\n"
     ]
    },
    {
     "data": {
      "text/plain": [
       "<keras.callbacks.History at 0x2768fabd100>"
      ]
     },
     "execution_count": 15,
     "metadata": {},
     "output_type": "execute_result"
    }
   ],
   "source": [
    "model.compile(optimizer='adam', loss='sparse_categorical_crossentropy', metrics=['accuracy'])\n",
    "model.fit(X_train, y_train, batch_size=64, epochs=100)"
   ]
  },
  {
   "cell_type": "code",
   "execution_count": 16,
   "metadata": {},
   "outputs": [
    {
     "name": "stdout",
     "output_type": "stream",
     "text": [
      "75/75 [==============================] - 0s 1ms/step - loss: 2.0835 - accuracy: 0.6772\n"
     ]
    },
    {
     "data": {
      "text/plain": [
       "[2.083486795425415, 0.6771620512008667]"
      ]
     },
     "execution_count": 16,
     "metadata": {},
     "output_type": "execute_result"
    }
   ],
   "source": [
    "model.evaluate(X_test, y_test)"
   ]
  },
  {
   "cell_type": "code",
   "execution_count": 24,
   "metadata": {},
   "outputs": [
    {
     "name": "stdout",
     "output_type": "stream",
     "text": [
      "1/1 [==============================] - 0s 16ms/step\n",
      "1/1 [==============================] - 0s 12ms/step\n",
      "1/1 [==============================] - 0s 12ms/step\n"
     ]
    }
   ],
   "source": [
    "nimbus = np.array([\n",
    "    [0,0,0,0,0,0,0,0,1,0,0],\n",
    "    [0,0,0,0,0,0,0,0,0,0,0],\n",
    "    [0,0,0,0,0,0,0,0,0,0,0],\n",
    "    [0,0,0,0,1,0,0,0,0,0,0],\n",
    "    [0,0,0,0,0,0,0,0,0,0,0],\n",
    "    [0,0,0,0,0,0,0,1,0,0,0],\n",
    "    [0,0,0,0,0,0,0,0,0,0,0],\n",
    "    [0,0,0,0,0,0,0,0,0,0,0],\n",
    "    [0,0,0,0,1,0,0,0,1,0,0],\n",
    "    [0,0,0,0,0,0,0,0,0,0,0],\n",
    "    [0,0,0,0,0,0,0,0,0,0,0],\n",
    "    [0,0,0,0,0,0,0,0,0,0,0],\n",
    "    [0,0,0,0,0,0,0,0,0,0,0],\n",
    "    [0,0,0,0,0,0,0,0,1,0,1],\n",
    "    [0,0,0,0,0,0,0,0,0,0,0],\n",
    "    [0,0,0,0,0,0,0,0,0,0,0],\n",
    "    [0,0,0,0,0,0,0,0,0,0,0],\n",
    "    [0,0,0,0,0,0,0,0,0,0,0],\n",
    "])\n",
    "\n",
    "nimbus = nimbus.reshape((1, 18, 11, 1))\n",
    "\n",
    "easy_prob = np.array([\n",
    "    [0,0,0,0,0,0,1,0,0,0,0],\n",
    "    [0,0,0,0,0,0,0,0,0,0,0],\n",
    "    [0,0,0,0,0,0,0,0,0,0,0],\n",
    "    [0,0,0,0,1,0,0,0,0,0,0],\n",
    "    [0,0,0,0,0,0,0,0,0,0,0],\n",
    "    [0,0,0,0,0,0,1,0,0,0,0],\n",
    "    [0,0,0,0,0,0,0,0,0,0,0],\n",
    "    [0,0,0,0,0,0,0,0,0,0,0],\n",
    "    [0,0,0,0,0,0,0,1,0,0,0],\n",
    "    [0,0,0,0,0,0,0,0,0,0,0],\n",
    "    [0,0,0,0,1,0,0,0,0,0,0],\n",
    "    [0,0,0,0,0,0,0,0,0,0,0],\n",
    "    [0,0,0,0,0,0,0,0,0,0,0],\n",
    "    [0,0,0,0,0,1,0,0,0,0,0],\n",
    "    [0,0,0,0,0,0,0,0,0,0,0],\n",
    "    [0,0,0,0,0,0,0,0,0,0,0],\n",
    "    [0,0,0,0,0,0,0,0,0,0,0],\n",
    "    [0,0,0,0,0,0,0,0,0,0,0],\n",
    "])\n",
    "\n",
    "easy_prob = easy_prob.reshape((1,18,11,1))\n",
    "\n",
    "whispering_aspens = np.array([\n",
    "    [0,0,0,0,0,0,0,0,1,0,0],\n",
    "    [0,0,0,0,0,0,0,0,0,0,0],\n",
    "    [0,0,0,0,0,0,0,0,0,0,0],\n",
    "    [0,0,0,0,0,0,0,0,1,0,0],\n",
    "    [0,0,0,0,0,0,0,0,0,0,0],\n",
    "    [0,0,0,0,0,0,0,0,0,0,0],\n",
    "    [0,0,0,0,0,0,0,0,0,0,0],\n",
    "    [0,0,0,0,0,0,0,0,0,0,1],\n",
    "    [0,0,0,0,0,0,0,0,0,0,0],\n",
    "    [0,0,0,0,0,0,0,0,0,0,0],\n",
    "    [0,0,0,0,0,0,1,0,0,0,0],\n",
    "    [0,0,0,0,0,0,0,0,0,0,0],\n",
    "    [0,0,0,0,0,0,0,0,0,0,0],\n",
    "    [1,0,0,0,0,0,0,0,0,0,0],\n",
    "    [0,1,0,0,0,0,0,0,0,0,0],\n",
    "    [0,0,0,0,0,0,0,0,0,0,0],\n",
    "    [0,0,0,0,0,0,0,0,0,1,0],\n",
    "    [0,0,0,0,0,0,0,0,0,0,0],\n",
    "])\n",
    "\n",
    "whispering_aspens = whispering_aspens.reshape((1,18,11,1))\n",
    "\n",
    "nimbus_pred = model.predict(nimbus)\n",
    "ep_output = model.predict(easy_prob)\n",
    "aspens_pred = model.predict(whispering_aspens)"
   ]
  },
  {
   "cell_type": "code",
   "execution_count": 14,
   "metadata": {},
   "outputs": [
    {
     "data": {
      "text/plain": [
       "array([[8.5877337e-02, 3.7761626e-01, 3.7774161e-01, 7.0042118e-02,\n",
       "        5.5505749e-02, 9.8595340e-03, 1.7009310e-02, 2.2283439e-03,\n",
       "        1.4325357e-03, 4.0618697e-04, 2.2029196e-04, 4.2702287e-04,\n",
       "        1.6337543e-03]], dtype=float32)"
      ]
     },
     "execution_count": 14,
     "metadata": {},
     "output_type": "execute_result"
    }
   ],
   "source": [
    "nimbus_pred"
   ]
  },
  {
   "cell_type": "code",
   "execution_count": 18,
   "metadata": {},
   "outputs": [
    {
     "data": {
      "text/plain": [
       "0"
      ]
     },
     "execution_count": 18,
     "metadata": {},
     "output_type": "execute_result"
    }
   ],
   "source": [
    "np.argmax(ep_output)"
   ]
  },
  {
   "cell_type": "code",
   "execution_count": 19,
   "metadata": {},
   "outputs": [
    {
     "data": {
      "text/plain": [
       "2"
      ]
     },
     "execution_count": 19,
     "metadata": {},
     "output_type": "execute_result"
    }
   ],
   "source": [
    "np.argmax(nimbus_pred)"
   ]
  },
  {
   "cell_type": "code",
   "execution_count": 26,
   "metadata": {},
   "outputs": [
    {
     "data": {
      "text/plain": [
       "7"
      ]
     },
     "execution_count": 26,
     "metadata": {},
     "output_type": "execute_result"
    }
   ],
   "source": [
    "np.argmax(aspens_pred)"
   ]
  },
  {
   "cell_type": "code",
   "execution_count": null,
   "metadata": {},
   "outputs": [],
   "source": []
  }
 ],
 "metadata": {
  "kernelspec": {
   "display_name": "base",
   "language": "python",
   "name": "python3"
  },
  "language_info": {
   "codemirror_mode": {
    "name": "ipython",
    "version": 3
   },
   "file_extension": ".py",
   "mimetype": "text/x-python",
   "name": "python",
   "nbconvert_exporter": "python",
   "pygments_lexer": "ipython3",
   "version": "3.8.8"
  },
  "orig_nbformat": 4
 },
 "nbformat": 4,
 "nbformat_minor": 2
}
