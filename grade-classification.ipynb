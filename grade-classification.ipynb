{
 "cells": [
  {
   "cell_type": "code",
   "execution_count": 17,
   "metadata": {},
   "outputs": [],
   "source": [
    "import numpy as np\n",
    "import tensorflow as tf\n",
    "from tensorflow.keras import layers"
   ]
  },
  {
   "cell_type": "markdown",
   "metadata": {},
   "source": [
    "First we will load and clean our data!"
   ]
  },
  {
   "cell_type": "code",
   "execution_count": 61,
   "metadata": {},
   "outputs": [],
   "source": [
    "f = np.load(\"moonboard.npz\")\n",
    "X_train, y_train = f['x_train'], f['y_train']\n",
    "X_test,  y_test  = f['x_test'],  f['y_test']"
   ]
  },
  {
   "cell_type": "markdown",
   "metadata": {},
   "source": [
    "Here we can take a look at our labels (the grades encompassed in our dataset):"
   ]
  },
  {
   "cell_type": "code",
   "execution_count": 62,
   "metadata": {},
   "outputs": [
    {
     "name": "stdout",
     "output_type": "stream",
     "text": [
      "{0, 4, 5, 6, 7, 8, 9, 10, 11, 12, 13, 14, 15, 16}\n"
     ]
    },
    {
     "data": {
      "text/plain": [
       "(array([4099], dtype=int64),)"
      ]
     },
     "execution_count": 62,
     "metadata": {},
     "output_type": "execute_result"
    }
   ],
   "source": [
    "print(set(y_train))#grade labels!\n",
    "np.where(y_train == 0)"
   ]
  },
  {
   "cell_type": "markdown",
   "metadata": {},
   "source": [
    "As we can see, there is only one climb labeled with a grade of 0 - the lowest possible grade for a Moonboard climb is V4, so we will remove it.\n",
    "We need to remove the climb itself as well as the corresponding label."
   ]
  },
  {
   "cell_type": "code",
   "execution_count": 63,
   "metadata": {},
   "outputs": [],
   "source": [
    "X_train = np.delete(X_train, 4099, axis=0)\n",
    "y_train = np.delete(y_train, 4099)"
   ]
  },
  {
   "cell_type": "code",
   "execution_count": 64,
   "metadata": {},
   "outputs": [],
   "source": [
    "y_test = y_test - 4 # normalizing to 0-12 for sparse categorical cross-entropy\n",
    "y_train = y_train - 4"
   ]
  },
  {
   "cell_type": "code",
   "execution_count": 65,
   "metadata": {},
   "outputs": [
    {
     "name": "stdout",
     "output_type": "stream",
     "text": [
      "(9523, 18, 11)\n",
      "(9523,)\n"
     ]
    }
   ],
   "source": [
    "print(X_train.shape)\n",
    "print(y_train.shape)"
   ]
  },
  {
   "cell_type": "code",
   "execution_count": 66,
   "metadata": {},
   "outputs": [
    {
     "name": "stdout",
     "output_type": "stream",
     "text": [
      "Model: \"sequential_2\"\n",
      "_________________________________________________________________\n",
      " Layer (type)                Output Shape              Param #   \n",
      "=================================================================\n",
      " conv2d_4 (Conv2D)           (None, 16, 9, 32)         320       \n",
      "                                                                 \n",
      " max_pooling2d_4 (MaxPooling  (None, 8, 4, 32)         0         \n",
      " 2D)                                                             \n",
      "                                                                 \n",
      " batch_normalization_4 (Batc  (None, 8, 4, 32)         128       \n",
      " hNormalization)                                                 \n",
      "                                                                 \n",
      " conv2d_5 (Conv2D)           (None, 6, 2, 64)          18496     \n",
      "                                                                 \n",
      " max_pooling2d_5 (MaxPooling  (None, 3, 1, 64)         0         \n",
      " 2D)                                                             \n",
      "                                                                 \n",
      " batch_normalization_5 (Batc  (None, 3, 1, 64)         256       \n",
      " hNormalization)                                                 \n",
      "                                                                 \n",
      " flatten_2 (Flatten)         (None, 192)               0         \n",
      "                                                                 \n",
      " dense_8 (Dense)             (None, 128)               24704     \n",
      "                                                                 \n",
      " dropout_2 (Dropout)         (None, 128)               0         \n",
      "                                                                 \n",
      " dense_9 (Dense)             (None, 64)                8256      \n",
      "                                                                 \n",
      " dense_10 (Dense)            (None, 32)                2080      \n",
      "                                                                 \n",
      " dense_11 (Dense)            (None, 13)                429       \n",
      "                                                                 \n",
      "=================================================================\n",
      "Total params: 54,669\n",
      "Trainable params: 54,477\n",
      "Non-trainable params: 192\n",
      "_________________________________________________________________\n"
     ]
    }
   ],
   "source": [
    "model = tf.keras.Sequential(\n",
    "    [\n",
    "        tf.keras.Input(shape=(18,11,1)),\n",
    "        layers.Conv2D(32, (3,3), activation='relu'),\n",
    "        layers.MaxPooling2D((2,2)),\n",
    "        layers.BatchNormalization(),\n",
    "        layers.Conv2D(64, (3,3), activation='relu'),\n",
    "        layers.MaxPooling2D((2,2)),\n",
    "        layers.BatchNormalization(),\n",
    "        layers.Flatten(),\n",
    "        layers.Dense(128, activation='relu'),\n",
    "        layers.Dropout(0.5),\n",
    "        layers.Dense(64, activation='relu'),\n",
    "        layers.Dense(32, activation='relu'),\n",
    "        layers.Dense(13, activation='softmax')\n",
    "\n",
    "    ]\n",
    ")\n",
    "model.summary()"
   ]
  },
  {
   "cell_type": "code",
   "execution_count": 67,
   "metadata": {},
   "outputs": [
    {
     "name": "stdout",
     "output_type": "stream",
     "text": [
      "Epoch 1/100\n",
      "149/149 [==============================] - 1s 5ms/step - loss: 1.9641 - accuracy: 0.3076\n",
      "Epoch 2/100\n",
      "149/149 [==============================] - 1s 5ms/step - loss: 1.7709 - accuracy: 0.3476\n",
      "Epoch 3/100\n",
      "149/149 [==============================] - 1s 5ms/step - loss: 1.6934 - accuracy: 0.3726\n",
      "Epoch 4/100\n",
      "149/149 [==============================] - 1s 5ms/step - loss: 1.6463 - accuracy: 0.3884\n",
      "Epoch 5/100\n",
      "149/149 [==============================] - 1s 5ms/step - loss: 1.5950 - accuracy: 0.3982\n",
      "Epoch 6/100\n",
      "149/149 [==============================] - 1s 5ms/step - loss: 1.5545 - accuracy: 0.4100\n",
      "Epoch 7/100\n",
      "149/149 [==============================] - 1s 5ms/step - loss: 1.5267 - accuracy: 0.4253\n",
      "Epoch 8/100\n",
      "149/149 [==============================] - 1s 5ms/step - loss: 1.4755 - accuracy: 0.4498\n",
      "Epoch 9/100\n",
      "149/149 [==============================] - 1s 5ms/step - loss: 1.4558 - accuracy: 0.4563\n",
      "Epoch 10/100\n",
      "149/149 [==============================] - 1s 5ms/step - loss: 1.4111 - accuracy: 0.4744\n",
      "Epoch 11/100\n",
      "149/149 [==============================] - 1s 5ms/step - loss: 1.3823 - accuracy: 0.4829\n",
      "Epoch 12/100\n",
      "149/149 [==============================] - 1s 5ms/step - loss: 1.3464 - accuracy: 0.4976\n",
      "Epoch 13/100\n",
      "149/149 [==============================] - 1s 5ms/step - loss: 1.3121 - accuracy: 0.5129\n",
      "Epoch 14/100\n",
      "149/149 [==============================] - 1s 5ms/step - loss: 1.2837 - accuracy: 0.5264\n",
      "Epoch 15/100\n",
      "149/149 [==============================] - 1s 5ms/step - loss: 1.2580 - accuracy: 0.5379\n",
      "Epoch 16/100\n",
      "149/149 [==============================] - 1s 5ms/step - loss: 1.2015 - accuracy: 0.5537\n",
      "Epoch 17/100\n",
      "149/149 [==============================] - 1s 5ms/step - loss: 1.1818 - accuracy: 0.5634\n",
      "Epoch 18/100\n",
      "149/149 [==============================] - 1s 5ms/step - loss: 1.1478 - accuracy: 0.5773\n",
      "Epoch 19/100\n",
      "149/149 [==============================] - 1s 5ms/step - loss: 1.1113 - accuracy: 0.5950\n",
      "Epoch 20/100\n",
      "149/149 [==============================] - 1s 5ms/step - loss: 1.0994 - accuracy: 0.5971\n",
      "Epoch 21/100\n",
      "149/149 [==============================] - 1s 5ms/step - loss: 1.0659 - accuracy: 0.6117\n",
      "Epoch 22/100\n",
      "149/149 [==============================] - 1s 5ms/step - loss: 1.0428 - accuracy: 0.6224\n",
      "Epoch 23/100\n",
      "149/149 [==============================] - 1s 5ms/step - loss: 1.0141 - accuracy: 0.6294\n",
      "Epoch 24/100\n",
      "149/149 [==============================] - 1s 5ms/step - loss: 0.9971 - accuracy: 0.6340\n",
      "Epoch 25/100\n",
      "149/149 [==============================] - 1s 5ms/step - loss: 0.9649 - accuracy: 0.6517\n",
      "Epoch 26/100\n",
      "149/149 [==============================] - 1s 5ms/step - loss: 0.9399 - accuracy: 0.6652\n",
      "Epoch 27/100\n",
      "149/149 [==============================] - 1s 5ms/step - loss: 0.9319 - accuracy: 0.6654\n",
      "Epoch 28/100\n",
      "149/149 [==============================] - 1s 5ms/step - loss: 0.9078 - accuracy: 0.6693\n",
      "Epoch 29/100\n",
      "149/149 [==============================] - 1s 5ms/step - loss: 0.8830 - accuracy: 0.6825\n",
      "Epoch 30/100\n",
      "149/149 [==============================] - 1s 5ms/step - loss: 0.8692 - accuracy: 0.6798\n",
      "Epoch 31/100\n",
      "149/149 [==============================] - 1s 5ms/step - loss: 0.8450 - accuracy: 0.6920\n",
      "Epoch 32/100\n",
      "149/149 [==============================] - 1s 5ms/step - loss: 0.8368 - accuracy: 0.6965\n",
      "Epoch 33/100\n",
      "149/149 [==============================] - 1s 5ms/step - loss: 0.8283 - accuracy: 0.6938\n",
      "Epoch 34/100\n",
      "149/149 [==============================] - 1s 5ms/step - loss: 0.7941 - accuracy: 0.7114\n",
      "Epoch 35/100\n",
      "149/149 [==============================] - 1s 5ms/step - loss: 0.8029 - accuracy: 0.7092\n",
      "Epoch 36/100\n",
      "149/149 [==============================] - 1s 5ms/step - loss: 0.7814 - accuracy: 0.7193\n",
      "Epoch 37/100\n",
      "149/149 [==============================] - 1s 5ms/step - loss: 0.7615 - accuracy: 0.7210\n",
      "Epoch 38/100\n",
      "149/149 [==============================] - 1s 5ms/step - loss: 0.7485 - accuracy: 0.7260\n",
      "Epoch 39/100\n",
      "149/149 [==============================] - 1s 5ms/step - loss: 0.7501 - accuracy: 0.7244\n",
      "Epoch 40/100\n",
      "149/149 [==============================] - 1s 5ms/step - loss: 0.7242 - accuracy: 0.7346\n",
      "Epoch 41/100\n",
      "149/149 [==============================] - 1s 5ms/step - loss: 0.7223 - accuracy: 0.7401\n",
      "Epoch 42/100\n",
      "149/149 [==============================] - 1s 5ms/step - loss: 0.7090 - accuracy: 0.7449\n",
      "Epoch 43/100\n",
      "149/149 [==============================] - 1s 5ms/step - loss: 0.6845 - accuracy: 0.7566\n",
      "Epoch 44/100\n",
      "149/149 [==============================] - 1s 5ms/step - loss: 0.6899 - accuracy: 0.7518\n",
      "Epoch 45/100\n",
      "149/149 [==============================] - 1s 5ms/step - loss: 0.6660 - accuracy: 0.7548\n",
      "Epoch 46/100\n",
      "149/149 [==============================] - 1s 5ms/step - loss: 0.6733 - accuracy: 0.7510\n",
      "Epoch 47/100\n",
      "149/149 [==============================] - 1s 5ms/step - loss: 0.6665 - accuracy: 0.7572\n",
      "Epoch 48/100\n",
      "149/149 [==============================] - 1s 5ms/step - loss: 0.6454 - accuracy: 0.7666\n",
      "Epoch 49/100\n",
      "149/149 [==============================] - 1s 5ms/step - loss: 0.6467 - accuracy: 0.7668\n",
      "Epoch 50/100\n",
      "149/149 [==============================] - 1s 5ms/step - loss: 0.6422 - accuracy: 0.7671\n",
      "Epoch 51/100\n",
      "149/149 [==============================] - 1s 5ms/step - loss: 0.6266 - accuracy: 0.7727\n",
      "Epoch 52/100\n",
      "149/149 [==============================] - 1s 5ms/step - loss: 0.6111 - accuracy: 0.7810\n",
      "Epoch 53/100\n",
      "149/149 [==============================] - 1s 5ms/step - loss: 0.6126 - accuracy: 0.7787\n",
      "Epoch 54/100\n",
      "149/149 [==============================] - 1s 5ms/step - loss: 0.6122 - accuracy: 0.7756\n",
      "Epoch 55/100\n",
      "149/149 [==============================] - 1s 5ms/step - loss: 0.6015 - accuracy: 0.7831\n",
      "Epoch 56/100\n",
      "149/149 [==============================] - 1s 5ms/step - loss: 0.5875 - accuracy: 0.7871\n",
      "Epoch 57/100\n",
      "149/149 [==============================] - 1s 5ms/step - loss: 0.5817 - accuracy: 0.7911\n",
      "Epoch 58/100\n",
      "149/149 [==============================] - 1s 5ms/step - loss: 0.5788 - accuracy: 0.7845\n",
      "Epoch 59/100\n",
      "149/149 [==============================] - 1s 5ms/step - loss: 0.5721 - accuracy: 0.7913\n",
      "Epoch 60/100\n",
      "149/149 [==============================] - 1s 5ms/step - loss: 0.5507 - accuracy: 0.7995\n",
      "Epoch 61/100\n",
      "149/149 [==============================] - 1s 5ms/step - loss: 0.5562 - accuracy: 0.7976\n",
      "Epoch 62/100\n",
      "149/149 [==============================] - 1s 5ms/step - loss: 0.5648 - accuracy: 0.7916\n",
      "Epoch 63/100\n",
      "149/149 [==============================] - 1s 5ms/step - loss: 0.5438 - accuracy: 0.8026\n",
      "Epoch 64/100\n",
      "149/149 [==============================] - 1s 5ms/step - loss: 0.5403 - accuracy: 0.8008\n",
      "Epoch 65/100\n",
      "149/149 [==============================] - 1s 5ms/step - loss: 0.5573 - accuracy: 0.7879\n",
      "Epoch 66/100\n",
      "149/149 [==============================] - 1s 5ms/step - loss: 0.5420 - accuracy: 0.8020\n",
      "Epoch 67/100\n",
      "149/149 [==============================] - 1s 5ms/step - loss: 0.5301 - accuracy: 0.8056\n",
      "Epoch 68/100\n",
      "149/149 [==============================] - 1s 5ms/step - loss: 0.5289 - accuracy: 0.8087\n",
      "Epoch 69/100\n",
      "149/149 [==============================] - 1s 5ms/step - loss: 0.5417 - accuracy: 0.8011\n",
      "Epoch 70/100\n",
      "149/149 [==============================] - 1s 5ms/step - loss: 0.5178 - accuracy: 0.8138\n",
      "Epoch 71/100\n",
      "149/149 [==============================] - 1s 5ms/step - loss: 0.5168 - accuracy: 0.8146\n",
      "Epoch 72/100\n",
      "149/149 [==============================] - 1s 5ms/step - loss: 0.5052 - accuracy: 0.8143\n",
      "Epoch 73/100\n",
      "149/149 [==============================] - 1s 5ms/step - loss: 0.5154 - accuracy: 0.8140\n",
      "Epoch 74/100\n",
      "149/149 [==============================] - 1s 5ms/step - loss: 0.5034 - accuracy: 0.8149\n",
      "Epoch 75/100\n",
      "149/149 [==============================] - 1s 5ms/step - loss: 0.4844 - accuracy: 0.8211\n",
      "Epoch 76/100\n",
      "149/149 [==============================] - 1s 5ms/step - loss: 0.4997 - accuracy: 0.8197\n",
      "Epoch 77/100\n",
      "149/149 [==============================] - 1s 5ms/step - loss: 0.5077 - accuracy: 0.8123\n",
      "Epoch 78/100\n",
      "149/149 [==============================] - 1s 5ms/step - loss: 0.4979 - accuracy: 0.8174\n",
      "Epoch 79/100\n",
      "149/149 [==============================] - 1s 5ms/step - loss: 0.4661 - accuracy: 0.8276\n",
      "Epoch 80/100\n",
      "149/149 [==============================] - 1s 5ms/step - loss: 0.4845 - accuracy: 0.8217\n",
      "Epoch 81/100\n",
      "149/149 [==============================] - 1s 5ms/step - loss: 0.4725 - accuracy: 0.8268\n",
      "Epoch 82/100\n",
      "149/149 [==============================] - 1s 5ms/step - loss: 0.4835 - accuracy: 0.8230\n",
      "Epoch 83/100\n",
      "149/149 [==============================] - 1s 5ms/step - loss: 0.4876 - accuracy: 0.8240\n",
      "Epoch 84/100\n",
      "149/149 [==============================] - 1s 5ms/step - loss: 0.4599 - accuracy: 0.8302\n",
      "Epoch 85/100\n",
      "149/149 [==============================] - 1s 5ms/step - loss: 0.4638 - accuracy: 0.8286\n",
      "Epoch 86/100\n",
      "149/149 [==============================] - 1s 5ms/step - loss: 0.4480 - accuracy: 0.8315\n",
      "Epoch 87/100\n",
      "149/149 [==============================] - 1s 5ms/step - loss: 0.4491 - accuracy: 0.8347\n",
      "Epoch 88/100\n",
      "149/149 [==============================] - 1s 5ms/step - loss: 0.4320 - accuracy: 0.8397\n",
      "Epoch 89/100\n",
      "149/149 [==============================] - 1s 5ms/step - loss: 0.4554 - accuracy: 0.8341\n",
      "Epoch 90/100\n",
      "149/149 [==============================] - 1s 5ms/step - loss: 0.4663 - accuracy: 0.8258\n",
      "Epoch 91/100\n",
      "149/149 [==============================] - 1s 5ms/step - loss: 0.4398 - accuracy: 0.8383\n",
      "Epoch 92/100\n",
      "149/149 [==============================] - 1s 5ms/step - loss: 0.4374 - accuracy: 0.8382\n",
      "Epoch 93/100\n",
      "149/149 [==============================] - 1s 5ms/step - loss: 0.4463 - accuracy: 0.8326\n",
      "Epoch 94/100\n",
      "149/149 [==============================] - 1s 5ms/step - loss: 0.4408 - accuracy: 0.8393\n",
      "Epoch 95/100\n",
      "149/149 [==============================] - 1s 5ms/step - loss: 0.4465 - accuracy: 0.8363\n",
      "Epoch 96/100\n",
      "149/149 [==============================] - 1s 5ms/step - loss: 0.4271 - accuracy: 0.8451\n",
      "Epoch 97/100\n",
      "149/149 [==============================] - 1s 5ms/step - loss: 0.4252 - accuracy: 0.8439\n",
      "Epoch 98/100\n",
      "149/149 [==============================] - 1s 5ms/step - loss: 0.4244 - accuracy: 0.8437\n",
      "Epoch 99/100\n",
      "149/149 [==============================] - 1s 5ms/step - loss: 0.4345 - accuracy: 0.8408\n",
      "Epoch 100/100\n",
      "149/149 [==============================] - 1s 5ms/step - loss: 0.4262 - accuracy: 0.8463\n"
     ]
    },
    {
     "data": {
      "text/plain": [
       "<keras.callbacks.History at 0x1c9fec11b80>"
      ]
     },
     "execution_count": 67,
     "metadata": {},
     "output_type": "execute_result"
    }
   ],
   "source": [
    "model.compile(optimizer='adam', loss='sparse_categorical_crossentropy', metrics=['accuracy'])\n",
    "model.fit(X_train, y_train, batch_size=64, epochs=100)"
   ]
  },
  {
   "cell_type": "code",
   "execution_count": 68,
   "metadata": {},
   "outputs": [
    {
     "name": "stdout",
     "output_type": "stream",
     "text": [
      "75/75 [==============================] - 0s 1ms/step - loss: 1.9305 - accuracy: 0.6805\n"
     ]
    },
    {
     "data": {
      "text/plain": [
       "[1.9305113554000854, 0.6805205941200256]"
      ]
     },
     "execution_count": 68,
     "metadata": {},
     "output_type": "execute_result"
    }
   ],
   "source": [
    "model.evaluate(X_test, y_test)"
   ]
  },
  {
   "cell_type": "code",
   "execution_count": 69,
   "metadata": {},
   "outputs": [
    {
     "name": "stdout",
     "output_type": "stream",
     "text": [
      "75/75 [==============================] - 0s 1ms/step\n"
     ]
    },
    {
     "data": {
      "text/plain": [
       "False"
      ]
     },
     "execution_count": 69,
     "metadata": {},
     "output_type": "execute_result"
    }
   ],
   "source": [
    "y_pred = model.predict(X_test)\n",
    "y_pred.shape == y_test.shape"
   ]
  },
  {
   "cell_type": "code",
   "execution_count": 74,
   "metadata": {},
   "outputs": [],
   "source": [
    "max_probability_grades = []\n",
    "for pred in y_pred:\n",
    "    max_probability_grades.append(np.argmax(pred))"
   ]
  },
  {
   "cell_type": "code",
   "execution_count": 76,
   "metadata": {},
   "outputs": [],
   "source": [
    "preds_within_one = 0\n",
    "\n",
    "for i in range(len(y_test)):\n",
    "    if np.abs(y_test[i] - max_probability_grades[i]) <= 1:\n",
    "        preds_within_one += 1\n"
   ]
  },
  {
   "cell_type": "code",
   "execution_count": 77,
   "metadata": {},
   "outputs": [
    {
     "data": {
      "text/plain": [
       "0.8073047858942065"
      ]
     },
     "execution_count": 77,
     "metadata": {},
     "output_type": "execute_result"
    }
   ],
   "source": [
    "preds_within_one / len(y_test)"
   ]
  },
  {
   "cell_type": "code",
   "execution_count": 56,
   "metadata": {},
   "outputs": [
    {
     "name": "stdout",
     "output_type": "stream",
     "text": [
      "1/1 [==============================] - 0s 81ms/step\n",
      "1/1 [==============================] - 0s 11ms/step\n",
      "1/1 [==============================] - 0s 11ms/step\n"
     ]
    }
   ],
   "source": [
    "nimbus = np.array([\n",
    "    [0,0,0,0,0,0,0,0,1,0,0],\n",
    "    [0,0,0,0,0,0,0,0,0,0,0],\n",
    "    [0,0,0,0,0,0,0,0,0,0,0],\n",
    "    [0,0,0,0,1,0,0,0,0,0,0],\n",
    "    [0,0,0,0,0,0,0,0,0,0,0],\n",
    "    [0,0,0,0,0,0,0,1,0,0,0],\n",
    "    [0,0,0,0,0,0,0,0,0,0,0],\n",
    "    [0,0,0,0,0,0,0,0,0,0,0],\n",
    "    [0,0,0,0,1,0,0,0,1,0,0],\n",
    "    [0,0,0,0,0,0,0,0,0,0,0],\n",
    "    [0,0,0,0,0,0,0,0,0,0,0],\n",
    "    [0,0,0,0,0,0,0,0,0,0,0],\n",
    "    [0,0,0,0,0,0,0,0,0,0,0],\n",
    "    [0,0,0,0,0,0,0,0,1,0,1],\n",
    "    [0,0,0,0,0,0,0,0,0,0,0],\n",
    "    [0,0,0,0,0,0,0,0,0,0,0],\n",
    "    [0,0,0,0,0,0,0,0,0,0,0],\n",
    "    [0,0,0,0,0,0,0,0,0,0,0],\n",
    "])\n",
    "\n",
    "nimbus = nimbus.reshape((1, 18, 11, 1))\n",
    "\n",
    "easy_prob = np.array([\n",
    "    [0,0,0,0,0,0,1,0,0,0,0],\n",
    "    [0,0,0,0,0,0,0,0,0,0,0],\n",
    "    [0,0,0,0,0,0,0,0,0,0,0],\n",
    "    [0,0,0,0,1,0,0,0,0,0,0],\n",
    "    [0,0,0,0,0,0,0,0,0,0,0],\n",
    "    [0,0,0,0,0,0,1,0,0,0,0],\n",
    "    [0,0,0,0,0,0,0,0,0,0,0],\n",
    "    [0,0,0,0,0,0,0,0,0,0,0],\n",
    "    [0,0,0,0,0,0,0,1,0,0,0],\n",
    "    [0,0,0,0,0,0,0,0,0,0,0],\n",
    "    [0,0,0,0,1,0,0,0,0,0,0],\n",
    "    [0,0,0,0,0,0,0,0,0,0,0],\n",
    "    [0,0,0,0,0,0,0,0,0,0,0],\n",
    "    [0,0,0,0,0,1,0,0,0,0,0],\n",
    "    [0,0,0,0,0,0,0,0,0,0,0],\n",
    "    [0,0,0,0,0,0,0,0,0,0,0],\n",
    "    [0,0,0,0,0,0,0,0,0,0,0],\n",
    "    [0,0,0,0,0,0,0,0,0,0,0],\n",
    "])\n",
    "\n",
    "easy_prob = easy_prob.reshape((1,18,11,1))\n",
    "\n",
    "whispering_aspens = np.array([\n",
    "    [0,0,0,0,0,0,0,0,1,0,0],\n",
    "    [0,0,0,0,0,0,0,0,0,0,0],\n",
    "    [0,0,0,0,0,0,0,0,0,0,0],\n",
    "    [0,0,0,0,0,0,0,0,1,0,0],\n",
    "    [0,0,0,0,0,0,0,0,0,0,0],\n",
    "    [0,0,0,0,0,0,0,0,0,0,0],\n",
    "    [0,0,0,0,0,0,0,0,0,0,0],\n",
    "    [0,0,0,0,0,0,0,0,0,0,1],\n",
    "    [0,0,0,0,0,0,0,0,0,0,0],\n",
    "    [0,0,0,0,0,0,0,0,0,0,0],\n",
    "    [0,0,0,0,0,0,1,0,0,0,0],\n",
    "    [0,0,0,0,0,0,0,0,0,0,0],\n",
    "    [0,0,0,0,0,0,0,0,0,0,0],\n",
    "    [1,0,0,0,0,0,0,0,0,0,0],\n",
    "    [0,1,0,0,0,0,0,0,0,0,0],\n",
    "    [0,0,0,0,0,0,0,0,0,0,0],\n",
    "    [0,0,0,0,0,0,0,0,0,1,0],\n",
    "    [0,0,0,0,0,0,0,0,0,0,0],\n",
    "])\n",
    "\n",
    "whispering_aspens = whispering_aspens.reshape((1,18,11,1))\n",
    "\n",
    "nimbus_pred = model.predict(nimbus)\n",
    "ep_output = model.predict(easy_prob)\n",
    "aspens_pred = model.predict(whispering_aspens)"
   ]
  },
  {
   "cell_type": "code",
   "execution_count": 57,
   "metadata": {},
   "outputs": [
    {
     "data": {
      "text/plain": [
       "array([[6.87273499e-03, 1.29098790e-02, 8.40305448e-01, 1.39785901e-01,\n",
       "        1.24971193e-04, 1.01280406e-07, 8.62599393e-07, 2.63170215e-11,\n",
       "        4.56410916e-11, 9.80617172e-13, 2.54237373e-19, 1.28798994e-11,\n",
       "        8.31755279e-16]], dtype=float32)"
      ]
     },
     "execution_count": 57,
     "metadata": {},
     "output_type": "execute_result"
    }
   ],
   "source": [
    "nimbus_pred"
   ]
  },
  {
   "cell_type": "code",
   "execution_count": 58,
   "metadata": {},
   "outputs": [
    {
     "data": {
      "text/plain": [
       "0"
      ]
     },
     "execution_count": 58,
     "metadata": {},
     "output_type": "execute_result"
    }
   ],
   "source": [
    "np.argmax(ep_output)"
   ]
  },
  {
   "cell_type": "code",
   "execution_count": 59,
   "metadata": {},
   "outputs": [
    {
     "data": {
      "text/plain": [
       "2"
      ]
     },
     "execution_count": 59,
     "metadata": {},
     "output_type": "execute_result"
    }
   ],
   "source": [
    "np.argmax(nimbus_pred)"
   ]
  },
  {
   "cell_type": "code",
   "execution_count": 60,
   "metadata": {},
   "outputs": [
    {
     "data": {
      "text/plain": [
       "7"
      ]
     },
     "execution_count": 60,
     "metadata": {},
     "output_type": "execute_result"
    }
   ],
   "source": [
    "np.argmax(aspens_pred)"
   ]
  },
  {
   "cell_type": "code",
   "execution_count": null,
   "metadata": {},
   "outputs": [],
   "source": []
  }
 ],
 "metadata": {
  "kernelspec": {
   "display_name": "base",
   "language": "python",
   "name": "python3"
  },
  "language_info": {
   "codemirror_mode": {
    "name": "ipython",
    "version": 3
   },
   "file_extension": ".py",
   "mimetype": "text/x-python",
   "name": "python",
   "nbconvert_exporter": "python",
   "pygments_lexer": "ipython3",
   "version": "3.8.8"
  },
  "orig_nbformat": 4
 },
 "nbformat": 4,
 "nbformat_minor": 2
}
